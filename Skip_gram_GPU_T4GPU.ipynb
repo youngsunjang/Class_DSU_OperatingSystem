{
  "nbformat": 4,
  "nbformat_minor": 0,
  "metadata": {
    "colab": {
      "provenance": [],
      "machine_shape": "hm",
      "gpuType": "T4",
      "collapsed_sections": [
        "Wh4JnOOXi9fk",
        "DLIpEghKD0r5",
        "DNxCKtWkjU1L"
      ],
      "mount_file_id": "1m98VBl0tpQZ2OEAtMpS-5YvO7xgwFWLA",
      "authorship_tag": "ABX9TyN/1yG78vGpmP9esUXZ9n0v",
      "include_colab_link": true
    },
    "kernelspec": {
      "name": "python3",
      "display_name": "Python 3"
    },
    "language_info": {
      "name": "python"
    },
    "accelerator": "GPU"
  },
  "cells": [
    {
      "cell_type": "markdown",
      "metadata": {
        "id": "view-in-github",
        "colab_type": "text"
      },
      "source": [
        "<a href=\"https://colab.research.google.com/github/youngsunjang/Class_DSU_OperatingSystem/blob/main/Skip_gram_GPU_T4GPU.ipynb\" target=\"_parent\"><img src=\"https://colab.research.google.com/assets/colab-badge.svg\" alt=\"Open In Colab\"/></a>"
      ]
    },
    {
      "cell_type": "markdown",
      "source": [
        "### Specs of Devices\n",
        "Colab primarily supports T4 GPU options for non subscriber.\n",
        "\n",
        "\n"
      ],
      "metadata": {
        "id": "Wh4JnOOXi9fk"
      }
    },
    {
      "cell_type": "markdown",
      "source": [
        "#### T4 GPU\n",
        "As below, the name of the T4 GPU memory is Tesla T4.\n",
        "\n",
        "The GPU memory is 15360.0 MB (approx. 15 GB)."
      ],
      "metadata": {
        "id": "DLIpEghKD0r5"
      }
    },
    {
      "cell_type": "code",
      "source": [
        "!pip install GPUtil"
      ],
      "metadata": {
        "colab": {
          "base_uri": "https://localhost:8080/"
        },
        "id": "QYJHLNj9EHt4",
        "outputId": "fe3b6972-642b-4c57-d9d7-953dd01c53db"
      },
      "execution_count": null,
      "outputs": [
        {
          "output_type": "stream",
          "name": "stdout",
          "text": [
            "Requirement already satisfied: GPUtil in /usr/local/lib/python3.10/dist-packages (1.4.0)\n"
          ]
        }
      ]
    },
    {
      "cell_type": "code",
      "source": [
        "import GPUtil\n",
        "# Get the list of available GPUs\n",
        "gpus = GPUtil.getGPUs()\n",
        "\n",
        "# Print GPU information\n",
        "for i, gpu in enumerate(gpus):\n",
        "    print(f\"GPU {i + 1}:\")\n",
        "    print(f\"  Name: {gpu.name}\")\n",
        "    print(f\"  Driver: {gpu.driver}\")\n",
        "    print(f\"  GPU Memory: {gpu.memoryTotal} MB\")\n",
        "    print(f\"  GPU Memory Free: {gpu.memoryFree} MB\")\n",
        "    print(f\"  GPU Memory Used: {gpu.memoryUsed} MB\")\n",
        "    print(f\"  GPU Load: {gpu.load * 100}%\")\n",
        "    print(\"\\n\")"
      ],
      "metadata": {
        "colab": {
          "base_uri": "https://localhost:8080/"
        },
        "outputId": "35cd10d5-550d-46e8-e2e7-24b203d6ccc5",
        "id": "Vtaz64P-D0r5"
      },
      "execution_count": null,
      "outputs": [
        {
          "output_type": "stream",
          "name": "stdout",
          "text": [
            "GPU 1:\n",
            "  Name: Tesla T4\n",
            "  Driver: 525.105.17\n",
            "  GPU Memory: 15360.0 MB\n",
            "  GPU Memory Free: 15101.0 MB\n",
            "  GPU Memory Used: 0.0 MB\n",
            "  GPU Load: 0.0%\n",
            "\n",
            "\n"
          ]
        }
      ]
    },
    {
      "cell_type": "code",
      "source": [
        "# Comprehensive view of GPU specs\n",
        "!nvidia-smi"
      ],
      "metadata": {
        "colab": {
          "base_uri": "https://localhost:8080/"
        },
        "outputId": "661f2e4b-c953-4c89-be9c-bb47596cd6d4",
        "id": "bhO_Fn4OD0r6"
      },
      "execution_count": null,
      "outputs": [
        {
          "output_type": "stream",
          "name": "stdout",
          "text": [
            "Thu Nov 30 16:30:17 2023       \n",
            "+-----------------------------------------------------------------------------+\n",
            "| NVIDIA-SMI 525.105.17   Driver Version: 525.105.17   CUDA Version: 12.0     |\n",
            "|-------------------------------+----------------------+----------------------+\n",
            "| GPU  Name        Persistence-M| Bus-Id        Disp.A | Volatile Uncorr. ECC |\n",
            "| Fan  Temp  Perf  Pwr:Usage/Cap|         Memory-Usage | GPU-Util  Compute M. |\n",
            "|                               |                      |               MIG M. |\n",
            "|===============================+======================+======================|\n",
            "|   0  Tesla T4            Off  | 00000000:00:04.0 Off |                    0 |\n",
            "| N/A   45C    P8     9W /  70W |      0MiB / 15360MiB |      0%      Default |\n",
            "|                               |                      |                  N/A |\n",
            "+-------------------------------+----------------------+----------------------+\n",
            "                                                                               \n",
            "+-----------------------------------------------------------------------------+\n",
            "| Processes:                                                                  |\n",
            "|  GPU   GI   CI        PID   Type   Process name                  GPU Memory |\n",
            "|        ID   ID                                                   Usage      |\n",
            "|=============================================================================|\n",
            "|  No running processes found                                                 |\n",
            "+-----------------------------------------------------------------------------+\n"
          ]
        }
      ]
    },
    {
      "cell_type": "markdown",
      "source": [
        "### Program"
      ],
      "metadata": {
        "id": "DNxCKtWkjU1L"
      }
    },
    {
      "cell_type": "code",
      "source": [
        "import torch\n",
        "torch.manual_seed(10)\n",
        "from torch.autograd import Variable\n",
        "from torch.utils.data import DataLoader\n",
        "import pandas as pd\n",
        "import numpy as np\n",
        "from sklearn import decomposition\n",
        "from pathlib import Path\n",
        "import warnings\n",
        "warnings.filterwarnings(\"ignore\")\n",
        "import seaborn as sns\n",
        "from matplotlib import pyplot as plt\n",
        "plt.rcParams['figure.figsize'] = (10,8)\n",
        "import nltk\n",
        "from nltk.corpus import stopwords\n",
        "import time"
      ],
      "metadata": {
        "id": "UY-o4rk205jt"
      },
      "execution_count": 1,
      "outputs": []
    },
    {
      "cell_type": "code",
      "source": [
        "######################################\n",
        "# Passage split\n",
        "######################################\n",
        "import nltk\n",
        "\n",
        "# Download the punkt tokenizer if not already downloaded\n",
        "nltk.download('punkt')\n",
        "nltk.download('stopwords')"
      ],
      "metadata": {
        "colab": {
          "base_uri": "https://localhost:8080/"
        },
        "id": "uQCbe4U21EnT",
        "outputId": "ba104bce-6f57-43ff-d416-e3cab03e307d"
      },
      "execution_count": 2,
      "outputs": [
        {
          "output_type": "stream",
          "name": "stderr",
          "text": [
            "[nltk_data] Downloading package punkt to /root/nltk_data...\n",
            "[nltk_data]   Package punkt is already up-to-date!\n",
            "[nltk_data] Downloading package stopwords to /root/nltk_data...\n",
            "[nltk_data]   Package stopwords is already up-to-date!\n"
          ]
        },
        {
          "output_type": "execute_result",
          "data": {
            "text/plain": [
              "True"
            ]
          },
          "metadata": {},
          "execution_count": 2
        }
      ]
    },
    {
      "cell_type": "code",
      "execution_count": 3,
      "metadata": {
        "id": "juyFot090rp-"
      },
      "outputs": [],
      "source": [
        "# Specify the path to your text file\n",
        "file_path = \"/content/New_data.txt\"\n",
        "\n",
        "# Read the passage from the text file\n",
        "with open(file_path, 'r', encoding='utf-8') as file:\n",
        "    passage = file.read()\n",
        "\n",
        "# Use nltk to tokenize the text into sentences\n",
        "corpus = nltk.sent_tokenize(passage)"
      ]
    },
    {
      "cell_type": "code",
      "source": [
        "def create_vocabulary(corpus):\n",
        "    '''Creates a dictionary with all unique words in corpus with id'''\n",
        "    vocabulary = {}\n",
        "    i = 0\n",
        "    for s in corpus:\n",
        "        for w in s.split():\n",
        "            if w not in vocabulary:\n",
        "                vocabulary[w] = i\n",
        "                i+=1\n",
        "    return vocabulary\n",
        "\n",
        "def prepare_set(corpus, n_gram = 1):\n",
        "    '''Creates a dataset with Input column and Outputs columns for neighboring words.\n",
        "       The number of neighbors = n_gram*2'''\n",
        "    columns = ['Input'] + [f'Output{i+1}' for i in range(n_gram*2)]\n",
        "    result = pd.DataFrame(columns = columns)\n",
        "    for sentence in corpus:\n",
        "        for i,w in enumerate(sentence.split()):\n",
        "            inp = [w]\n",
        "            out = []\n",
        "            for n in range(1,n_gram+1):\n",
        "                # look back\n",
        "                if (i-n)>=0:\n",
        "                    out.append(sentence.split()[i-n])\n",
        "                else:\n",
        "                    out.append('<padding>')\n",
        "\n",
        "                # look forward\n",
        "                if (i+n)<len(sentence.split()):\n",
        "                    out.append(sentence.split()[i+n])\n",
        "                else:\n",
        "                    out.append('<padding>')\n",
        "            row = pd.DataFrame([inp+out], columns = columns)\n",
        "            result = result.append(row, ignore_index = True)\n",
        "    return result"
      ],
      "metadata": {
        "id": "vCUeHuh81IQ_"
      },
      "execution_count": 4,
      "outputs": []
    },
    {
      "cell_type": "code",
      "source": [
        "def prepare_set_ravel(corpus, n_gram = 1):\n",
        "    '''Creates a dataset with Input column and Output column for neighboring words.\n",
        "       The number of neighbors = n_gram*2'''\n",
        "    columns = ['Input', 'Output']\n",
        "    result = pd.DataFrame(columns = columns)\n",
        "    for sentence in corpus:\n",
        "        for i,w in enumerate(sentence.split()):\n",
        "            inp = w\n",
        "            for n in range(1,n_gram+1):\n",
        "                # look back\n",
        "                if (i-n)>=0:\n",
        "                    out = sentence.split()[i-n]\n",
        "                    row = pd.DataFrame([[inp,out]], columns = columns)\n",
        "                    result = result.append(row, ignore_index = True)\n",
        "\n",
        "                # look forward\n",
        "                if (i+n)<len(sentence.split()):\n",
        "                    out = sentence.split()[i+n]\n",
        "                    row = pd.DataFrame([[inp,out]], columns = columns)\n",
        "                    result = result.append(row, ignore_index = True)\n",
        "    return result"
      ],
      "metadata": {
        "id": "4OyIUdwl1J69"
      },
      "execution_count": 5,
      "outputs": []
    },
    {
      "cell_type": "code",
      "source": [
        "stop_words = set(stopwords.words('english'))"
      ],
      "metadata": {
        "id": "3XBvUpzC1Pfd"
      },
      "execution_count": 6,
      "outputs": []
    },
    {
      "cell_type": "code",
      "source": [
        "def preprocess(corpus):\n",
        "    result = []\n",
        "    for i in corpus:\n",
        "        out = nltk.word_tokenize(i)\n",
        "        out = [x.lower() for x in out]\n",
        "        out = [x for x in out if x not in stop_words]\n",
        "        result.append(\" \". join(out))\n",
        "    return result\n",
        "\n",
        "#########################\n",
        "# In paper, they used 300 dimensions and 5 context (n gram)\n",
        "#########################\n",
        "\n",
        "corpus = preprocess(corpus)\n",
        "vocabulary = create_vocabulary(corpus)\n",
        "train_emb = prepare_set(corpus, n_gram = 2)\n",
        "train_emb = prepare_set_ravel(corpus, n_gram = 2)\n",
        "train_emb.Input = train_emb.Input.map(vocabulary)\n",
        "train_emb.Output = train_emb.Output.map(vocabulary)\n",
        "\n",
        "vocab_size = len(vocabulary)\n",
        "\n",
        "def get_input_tensor(tensor):\n",
        "    '''Transform 1D tensor of word indexes to one-hot encoded 2D tensor'''\n",
        "    size = [*tensor.shape][0]\n",
        "    inp = torch.zeros(size, vocab_size).scatter_(1, tensor.unsqueeze(1), 1.)\n",
        "    return Variable(inp).float()\n",
        "\n",
        "embedding_dims = 300\n",
        "device = torch.device('cuda' if torch.cuda.is_available() else 'cpu')\n",
        "\n",
        "\n",
        "initrange = 0.5 / embedding_dims\n",
        "W1 = Variable(torch.randn(vocab_size, embedding_dims, device=device).uniform_(-initrange, initrange).float(), requires_grad=True) # shape V*H\n",
        "W2 = Variable(torch.randn(embedding_dims, vocab_size, device=device).uniform_(-initrange, initrange).float(), requires_grad=True) #shape H*V\n",
        "print(f'W1 shape is: {W1.shape}, W2 shape is: {W2.shape}')\n",
        "\n",
        "num_epochs = 2000\n",
        "learning_rate = 8.0\n",
        "lr_decay = 0.99\n",
        "loss_hist = []\n",
        "\n",
        "# Record the start time\n",
        "start_time = time.time()"
      ],
      "metadata": {
        "colab": {
          "base_uri": "https://localhost:8080/"
        },
        "id": "5Rxqxj0C1Ltd",
        "outputId": "0d24214a-d330-43b2-a908-cb630a8f8705"
      },
      "execution_count": 7,
      "outputs": [
        {
          "output_type": "stream",
          "name": "stdout",
          "text": [
            "W1 shape is: torch.Size([478, 300]), W2 shape is: torch.Size([300, 478])\n"
          ]
        }
      ]
    },
    {
      "cell_type": "code",
      "source": [
        "for epo in range(num_epochs):\n",
        "    total_correct = 0\n",
        "    total_samples = 0\n",
        "\n",
        "    for x,y in zip(DataLoader(train_emb.Input.values, batch_size=train_emb.shape[0]), DataLoader(train_emb.Output.values, batch_size=train_emb.shape[0])):\n",
        "        # one-hot encode input tensor\n",
        "        input_tensor = get_input_tensor(x).to(device) #shape N*V\n",
        "\n",
        "        # simple NN architecture\n",
        "        h = input_tensor.mm(W1.to(device)) # shape 1*H\n",
        "        y_pred = h.mm(W2.to(device)) # shape 1*V\n",
        "\n",
        "        # move target tensor to the same device\n",
        "        y = y.to(device)\n",
        "\n",
        "        # define loss func\n",
        "        loss_f = torch.nn.CrossEntropyLoss() # see details: https://pytorch.org/docs/stable/nn.html\n",
        "\n",
        "        #compute loss\n",
        "        loss = loss_f(y_pred, y)\n",
        "\n",
        "        # bakpropagation step\n",
        "        loss.backward()\n",
        "\n",
        "        # Update weights using gradient descent. For this step we just want to mutate\n",
        "        # the values of w1 and w2 in-place; we don't want to build up a computational\n",
        "        # graph for the update steps, so we use the torch.no_grad() context manager\n",
        "        # to prevent PyTorch from building a computational graph for the updates\n",
        "        with torch.no_grad():\n",
        "            # SGD optimization is implemented in PyTorch, but it's very easy to implement manually providing better understanding of process\n",
        "            W1 -= learning_rate*W1.grad.data\n",
        "            W2 -= learning_rate*W2.grad.data\n",
        "            # zero gradients for next step\n",
        "            W1.grad.data.zero_()\n",
        "            W2.grad.data.zero_()\n",
        "\n",
        "        # compute loss and accuracy\n",
        "        _, predicted = torch.max(y_pred.data, 1)\n",
        "        total_correct += (predicted == y).sum().item()\n",
        "        total_samples += y.size(0)\n",
        "\n",
        "    if epo%10 == 0:\n",
        "        learning_rate *= lr_decay\n",
        "    loss_hist.append(loss)\n",
        "    if epo%50 == 0:\n",
        "        accuracy = total_correct / total_samples\n",
        "        print(f'Epoch {epo}, loss = {loss}, accuracy = {accuracy}')\n",
        "\n",
        "# Record the end time\n",
        "end_time = time.time()\n",
        "\n",
        "# Calculate the elapsed time\n",
        "elapsed_time = end_time - start_time\n",
        "\n",
        "# Print the elapsed time\n",
        "print(f\"Elapsed Time: {elapsed_time} seconds\")"
      ],
      "metadata": {
        "colab": {
          "base_uri": "https://localhost:8080/"
        },
        "id": "s1-wS9WX03Ng",
        "outputId": "65272ffc-00bc-4f96-c21f-b5bb4b551c76"
      },
      "execution_count": 8,
      "outputs": [
        {
          "output_type": "stream",
          "name": "stdout",
          "text": [
            "Epoch 0, loss = 6.169611930847168, accuracy = 0.00411814825333712\n",
            "Epoch 50, loss = 5.476235389709473, accuracy = 0.20704345356432832\n",
            "Epoch 100, loss = 4.823186874389648, accuracy = 0.16231184322635614\n",
            "Epoch 150, loss = 4.689317226409912, accuracy = 0.20988355580800908\n",
            "Epoch 200, loss = 5.303544998168945, accuracy = 0.15975575120704347\n",
            "Epoch 250, loss = 4.615931034088135, accuracy = 0.20874751491053678\n",
            "Epoch 300, loss = 4.3084821701049805, accuracy = 0.2628514626526555\n",
            "Epoch 350, loss = 4.491026401519775, accuracy = 0.21002556092019312\n",
            "Epoch 400, loss = 4.275536060333252, accuracy = 0.2600113604089747\n",
            "Epoch 450, loss = 4.272696495056152, accuracy = 0.26086339108207895\n",
            "Epoch 500, loss = 4.261075973510742, accuracy = 0.23672252201079239\n",
            "Epoch 550, loss = 4.257680416107178, accuracy = 0.2837262141437092\n",
            "Epoch 600, loss = 4.136468410491943, accuracy = 0.28457824481681343\n",
            "Epoch 650, loss = 4.122188568115234, accuracy = 0.28457824481681343\n",
            "Epoch 700, loss = 4.087284088134766, accuracy = 0.28457824481681343\n",
            "Epoch 750, loss = 4.053134441375732, accuracy = 0.28457824481681343\n",
            "Epoch 800, loss = 4.019155025482178, accuracy = 0.28457824481681343\n",
            "Epoch 850, loss = 3.98543643951416, accuracy = 0.28472024992899747\n",
            "Epoch 900, loss = 3.9524919986724854, accuracy = 0.28486225504118146\n",
            "Epoch 950, loss = 3.922064781188965, accuracy = 0.2837262141437092\n",
            "Epoch 1000, loss = 3.9018988609313965, accuracy = 0.283016188582789\n",
            "Epoch 1050, loss = 3.871070146560669, accuracy = 0.28472024992899747\n",
            "Epoch 1100, loss = 3.8451151847839355, accuracy = 0.28486225504118146\n",
            "Epoch 1150, loss = 3.8236052989959717, accuracy = 0.28486225504118146\n",
            "Epoch 1200, loss = 3.803678035736084, accuracy = 0.28486225504118146\n",
            "Epoch 1250, loss = 3.784869909286499, accuracy = 0.28486225504118146\n",
            "Epoch 1300, loss = 3.767127513885498, accuracy = 0.28486225504118146\n",
            "Epoch 1350, loss = 3.7503726482391357, accuracy = 0.28486225504118146\n",
            "Epoch 1400, loss = 3.734546422958374, accuracy = 0.28486225504118146\n",
            "Epoch 1450, loss = 3.719590902328491, accuracy = 0.28486225504118146\n",
            "Epoch 1500, loss = 3.705465316772461, accuracy = 0.28486225504118146\n",
            "Epoch 1550, loss = 3.6921210289001465, accuracy = 0.28486225504118146\n",
            "Epoch 1600, loss = 3.6795196533203125, accuracy = 0.28486225504118146\n",
            "Epoch 1650, loss = 3.66762375831604, accuracy = 0.28486225504118146\n",
            "Epoch 1700, loss = 3.6563994884490967, accuracy = 0.28486225504118146\n",
            "Epoch 1750, loss = 3.6458139419555664, accuracy = 0.28486225504118146\n",
            "Epoch 1800, loss = 3.6358351707458496, accuracy = 0.28486225504118146\n",
            "Epoch 1850, loss = 3.626431465148926, accuracy = 0.28486225504118146\n",
            "Epoch 1900, loss = 3.6175696849823, accuracy = 0.28486225504118146\n",
            "Epoch 1950, loss = 3.6092190742492676, accuracy = 0.28486225504118146\n",
            "Elapsed Time: 35.26710796356201 seconds\n"
          ]
        }
      ]
    },
    {
      "cell_type": "code",
      "source": [],
      "metadata": {
        "id": "hrxSALFw2Rhl"
      },
      "execution_count": 8,
      "outputs": []
    }
  ]
}
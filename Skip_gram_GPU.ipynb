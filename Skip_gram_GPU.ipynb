{
  "nbformat": 4,
  "nbformat_minor": 0,
  "metadata": {
    "colab": {
      "provenance": [],
      "machine_shape": "hm",
      "gpuType": "A100",
      "collapsed_sections": [
        "Wh4JnOOXi9fk",
        "KvNK_TySjfuU",
        "i1leI1sYjhsj",
        "DNxCKtWkjU1L"
      ],
      "mount_file_id": "1m98VBl0tpQZ2OEAtMpS-5YvO7xgwFWLA",
      "authorship_tag": "ABX9TyMMCarIVddJbtsQbbOAdB6i",
      "include_colab_link": true
    },
    "kernelspec": {
      "name": "python3",
      "display_name": "Python 3"
    },
    "language_info": {
      "name": "python"
    },
    "accelerator": "GPU"
  },
  "cells": [
    {
      "cell_type": "markdown",
      "metadata": {
        "id": "view-in-github",
        "colab_type": "text"
      },
      "source": [
        "<a href=\"https://colab.research.google.com/github/youngsunjang/Class_DSU_OperatingSystem/blob/main/Skip_gram_GPU.ipynb\" target=\"_parent\"><img src=\"https://colab.research.google.com/assets/colab-badge.svg\" alt=\"Open In Colab\"/></a>"
      ]
    },
    {
      "cell_type": "markdown",
      "source": [
        "### Specs of Devices\n",
        "Colab primarily supports two kinds of GPU options\n",
        "*   A100 GPU -- Hard to get assgined with this Device (accessed Nov-30, 10:00AM)\n",
        "    - Allocation of high-performance GPUs is selective. It is known to be allocated according to priority.\n",
        "*   V100 GPU\n",
        "\n",
        "\n"
      ],
      "metadata": {
        "id": "Wh4JnOOXi9fk"
      }
    },
    {
      "cell_type": "markdown",
      "source": [
        "#### 1. A100 GPU - Not available\n",
        "As below, the name of the A100 GPU memory is NVIDIA A100-SXM4-40GB.\n",
        "\n",
        "The GPU memory is 40960.0 MB (approx. 40 GB)."
      ],
      "metadata": {
        "id": "KvNK_TySjfuU"
      }
    },
    {
      "cell_type": "code",
      "source": [
        "!pip install GPUtil"
      ],
      "metadata": {
        "colab": {
          "base_uri": "https://localhost:8080/"
        },
        "id": "GmvwPT8ck8dE",
        "outputId": "827fabb8-9a1e-4b44-ca5e-b8a2c59c0806"
      },
      "execution_count": 1,
      "outputs": [
        {
          "output_type": "stream",
          "name": "stdout",
          "text": [
            "Collecting GPUtil\n",
            "  Downloading GPUtil-1.4.0.tar.gz (5.5 kB)\n",
            "  Preparing metadata (setup.py) ... \u001b[?25l\u001b[?25hdone\n",
            "Building wheels for collected packages: GPUtil\n",
            "  Building wheel for GPUtil (setup.py) ... \u001b[?25l\u001b[?25hdone\n",
            "  Created wheel for GPUtil: filename=GPUtil-1.4.0-py3-none-any.whl size=7395 sha256=b53f6d7c05c5b5d65079cfcece0b6d40037ac17e026aec22c4caeb9f11c2a5be\n",
            "  Stored in directory: /root/.cache/pip/wheels/a9/8a/bd/81082387151853ab8b6b3ef33426e98f5cbfebc3c397a9d4d0\n",
            "Successfully built GPUtil\n",
            "Installing collected packages: GPUtil\n",
            "Successfully installed GPUtil-1.4.0\n"
          ]
        }
      ]
    },
    {
      "cell_type": "code",
      "source": [
        "import GPUtil"
      ],
      "metadata": {
        "id": "Y_kGGVpSkFzC"
      },
      "execution_count": 2,
      "outputs": []
    },
    {
      "cell_type": "code",
      "source": [
        "# Get the list of available GPUs\n",
        "gpus = GPUtil.getGPUs()\n",
        "\n",
        "# Print GPU information\n",
        "for i, gpu in enumerate(gpus):\n",
        "    print(f\"GPU {i + 1}:\")\n",
        "    print(f\"  Name: {gpu.name}\")\n",
        "    print(f\"  Driver: {gpu.driver}\")\n",
        "    print(f\"  GPU Memory: {gpu.memoryTotal} MB\")\n",
        "    print(f\"  GPU Memory Free: {gpu.memoryFree} MB\")\n",
        "    print(f\"  GPU Memory Used: {gpu.memoryUsed} MB\")\n",
        "    print(f\"  GPU Load: {gpu.load * 100}%\")\n",
        "    print(\"\\n\")"
      ],
      "metadata": {
        "colab": {
          "base_uri": "https://localhost:8080/"
        },
        "id": "MIxqo0uq-_gY",
        "outputId": "71d563f0-77cc-40cc-a4b6-3664a954a59f"
      },
      "execution_count": 3,
      "outputs": [
        {
          "output_type": "stream",
          "name": "stdout",
          "text": [
            "GPU 1:\n",
            "  Name: NVIDIA A100-SXM4-40GB\n",
            "  Driver: 525.105.17\n",
            "  GPU Memory: 40960.0 MB\n",
            "  GPU Memory Free: 40513.0 MB\n",
            "  GPU Memory Used: 0.0 MB\n",
            "  GPU Load: 0.0%\n",
            "\n",
            "\n"
          ]
        }
      ]
    },
    {
      "cell_type": "code",
      "source": [
        "# Comprehensive view of GPU specs\n",
        "!nvidia-smi"
      ],
      "metadata": {
        "colab": {
          "base_uri": "https://localhost:8080/"
        },
        "id": "nnF6yDiJ_Acf",
        "outputId": "2e6f9137-9a58-412f-8b64-936f9e0f4df4"
      },
      "execution_count": 4,
      "outputs": [
        {
          "output_type": "stream",
          "name": "stdout",
          "text": [
            "Thu Nov 30 16:07:17 2023       \n",
            "+-----------------------------------------------------------------------------+\n",
            "| NVIDIA-SMI 525.105.17   Driver Version: 525.105.17   CUDA Version: 12.0     |\n",
            "|-------------------------------+----------------------+----------------------+\n",
            "| GPU  Name        Persistence-M| Bus-Id        Disp.A | Volatile Uncorr. ECC |\n",
            "| Fan  Temp  Perf  Pwr:Usage/Cap|         Memory-Usage | GPU-Util  Compute M. |\n",
            "|                               |                      |               MIG M. |\n",
            "|===============================+======================+======================|\n",
            "|   0  NVIDIA A100-SXM...  Off  | 00000000:00:04.0 Off |                    0 |\n",
            "| N/A   31C    P0    46W / 400W |      0MiB / 40960MiB |      0%      Default |\n",
            "|                               |                      |             Disabled |\n",
            "+-------------------------------+----------------------+----------------------+\n",
            "                                                                               \n",
            "+-----------------------------------------------------------------------------+\n",
            "| Processes:                                                                  |\n",
            "|  GPU   GI   CI        PID   Type   Process name                  GPU Memory |\n",
            "|        ID   ID                                                   Usage      |\n",
            "|=============================================================================|\n",
            "|  No running processes found                                                 |\n",
            "+-----------------------------------------------------------------------------+\n"
          ]
        }
      ]
    },
    {
      "cell_type": "markdown",
      "source": [
        "#### 2. V100 GPU\n",
        "As below, the name of the V100 GPU memory is Tesla V100-SXM2-16GB.\n",
        "\n",
        "The GPU memory is 16384.0 MB (approx. 16 GB)."
      ],
      "metadata": {
        "id": "i1leI1sYjhsj"
      }
    },
    {
      "cell_type": "code",
      "source": [
        "# Get the list of available GPUs\n",
        "gpus = GPUtil.getGPUs()\n",
        "\n",
        "# Print GPU information\n",
        "for i, gpu in enumerate(gpus):\n",
        "    print(f\"GPU {i + 1}:\")\n",
        "    print(f\"  Name: {gpu.name}\")\n",
        "    print(f\"  Driver: {gpu.driver}\")\n",
        "    print(f\"  GPU Memory: {gpu.memoryTotal} MB\")\n",
        "    print(f\"  GPU Memory Free: {gpu.memoryFree} MB\")\n",
        "    print(f\"  GPU Memory Used: {gpu.memoryUsed} MB\")\n",
        "    print(f\"  GPU Load: {gpu.load * 100}%\")\n",
        "    print(\"\\n\")"
      ],
      "metadata": {
        "colab": {
          "base_uri": "https://localhost:8080/"
        },
        "id": "Xbd_ZLwwi1Fs",
        "outputId": "8da30777-0832-498e-97aa-13d4dab121e1"
      },
      "execution_count": null,
      "outputs": [
        {
          "output_type": "stream",
          "name": "stdout",
          "text": [
            "GPU 1:\n",
            "  Name: Tesla V100-SXM2-16GB\n",
            "  Driver: 525.105.17\n",
            "  GPU Memory: 16384.0 MB\n",
            "  GPU Memory Free: 16150.0 MB\n",
            "  GPU Memory Used: 0.0 MB\n",
            "  GPU Load: 0.0%\n",
            "\n",
            "\n"
          ]
        }
      ]
    },
    {
      "cell_type": "code",
      "source": [
        "# Comprehensive view of GPU specs\n",
        "!nvidia-smi"
      ],
      "metadata": {
        "colab": {
          "base_uri": "https://localhost:8080/"
        },
        "id": "zIFTrgXLinU-",
        "outputId": "8be98c9a-6b4d-4630-deeb-42ad7c858d96"
      },
      "execution_count": null,
      "outputs": [
        {
          "output_type": "stream",
          "name": "stdout",
          "text": [
            "Mon Nov 27 20:49:47 2023       \n",
            "+-----------------------------------------------------------------------------+\n",
            "| NVIDIA-SMI 525.105.17   Driver Version: 525.105.17   CUDA Version: 12.0     |\n",
            "|-------------------------------+----------------------+----------------------+\n",
            "| GPU  Name        Persistence-M| Bus-Id        Disp.A | Volatile Uncorr. ECC |\n",
            "| Fan  Temp  Perf  Pwr:Usage/Cap|         Memory-Usage | GPU-Util  Compute M. |\n",
            "|                               |                      |               MIG M. |\n",
            "|===============================+======================+======================|\n",
            "|   0  Tesla V100-SXM2...  Off  | 00000000:00:04.0 Off |                    0 |\n",
            "| N/A   31C    P0    24W / 300W |      0MiB / 16384MiB |      0%      Default |\n",
            "|                               |                      |                  N/A |\n",
            "+-------------------------------+----------------------+----------------------+\n",
            "                                                                               \n",
            "+-----------------------------------------------------------------------------+\n",
            "| Processes:                                                                  |\n",
            "|  GPU   GI   CI        PID   Type   Process name                  GPU Memory |\n",
            "|        ID   ID                                                   Usage      |\n",
            "|=============================================================================|\n",
            "|  No running processes found                                                 |\n",
            "+-----------------------------------------------------------------------------+\n"
          ]
        }
      ]
    },
    {
      "cell_type": "markdown",
      "source": [
        "### Program"
      ],
      "metadata": {
        "id": "DNxCKtWkjU1L"
      }
    },
    {
      "cell_type": "code",
      "source": [
        "import torch\n",
        "torch.manual_seed(10)\n",
        "from torch.autograd import Variable\n",
        "from torch.utils.data import DataLoader\n",
        "import pandas as pd\n",
        "import numpy as np\n",
        "from sklearn import decomposition\n",
        "from pathlib import Path\n",
        "import warnings\n",
        "warnings.filterwarnings(\"ignore\")\n",
        "import seaborn as sns\n",
        "from matplotlib import pyplot as plt\n",
        "plt.rcParams['figure.figsize'] = (10,8)\n",
        "import nltk\n",
        "from nltk.corpus import stopwords\n",
        "import time"
      ],
      "metadata": {
        "id": "UY-o4rk205jt"
      },
      "execution_count": 1,
      "outputs": []
    },
    {
      "cell_type": "code",
      "source": [
        "######################################\n",
        "# Passage split\n",
        "######################################\n",
        "import nltk\n",
        "\n",
        "# Download the punkt tokenizer if not already downloaded\n",
        "nltk.download('punkt')\n",
        "nltk.download('stopwords')"
      ],
      "metadata": {
        "colab": {
          "base_uri": "https://localhost:8080/"
        },
        "id": "uQCbe4U21EnT",
        "outputId": "f313ab16-f020-4f9d-f518-8a257b3ec8a2"
      },
      "execution_count": 2,
      "outputs": [
        {
          "output_type": "stream",
          "name": "stderr",
          "text": [
            "[nltk_data] Downloading package punkt to /root/nltk_data...\n",
            "[nltk_data]   Package punkt is already up-to-date!\n",
            "[nltk_data] Downloading package stopwords to /root/nltk_data...\n",
            "[nltk_data]   Package stopwords is already up-to-date!\n"
          ]
        },
        {
          "output_type": "execute_result",
          "data": {
            "text/plain": [
              "True"
            ]
          },
          "metadata": {},
          "execution_count": 2
        }
      ]
    },
    {
      "cell_type": "code",
      "execution_count": 3,
      "metadata": {
        "id": "juyFot090rp-"
      },
      "outputs": [],
      "source": [
        "# Specify the path to your text file\n",
        "file_path = \"/content/New_data.txt\"\n",
        "\n",
        "# Read the passage from the text file\n",
        "with open(file_path, 'r', encoding='utf-8') as file:\n",
        "    passage = file.read()\n",
        "\n",
        "# Use nltk to tokenize the text into sentences\n",
        "corpus = nltk.sent_tokenize(passage)"
      ]
    },
    {
      "cell_type": "code",
      "source": [
        "def create_vocabulary(corpus):\n",
        "    '''Creates a dictionary with all unique words in corpus with id'''\n",
        "    vocabulary = {}\n",
        "    i = 0\n",
        "    for s in corpus:\n",
        "        for w in s.split():\n",
        "            if w not in vocabulary:\n",
        "                vocabulary[w] = i\n",
        "                i+=1\n",
        "    return vocabulary\n",
        "\n",
        "def prepare_set(corpus, n_gram = 1):\n",
        "    '''Creates a dataset with Input column and Outputs columns for neighboring words.\n",
        "       The number of neighbors = n_gram*2'''\n",
        "    columns = ['Input'] + [f'Output{i+1}' for i in range(n_gram*2)]\n",
        "    result = pd.DataFrame(columns = columns)\n",
        "    for sentence in corpus:\n",
        "        for i,w in enumerate(sentence.split()):\n",
        "            inp = [w]\n",
        "            out = []\n",
        "            for n in range(1,n_gram+1):\n",
        "                # look back\n",
        "                if (i-n)>=0:\n",
        "                    out.append(sentence.split()[i-n])\n",
        "                else:\n",
        "                    out.append('<padding>')\n",
        "\n",
        "                # look forward\n",
        "                if (i+n)<len(sentence.split()):\n",
        "                    out.append(sentence.split()[i+n])\n",
        "                else:\n",
        "                    out.append('<padding>')\n",
        "            row = pd.DataFrame([inp+out], columns = columns)\n",
        "            result = result.append(row, ignore_index = True)\n",
        "    return result"
      ],
      "metadata": {
        "id": "vCUeHuh81IQ_"
      },
      "execution_count": 4,
      "outputs": []
    },
    {
      "cell_type": "code",
      "source": [
        "def prepare_set_ravel(corpus, n_gram = 1):\n",
        "    '''Creates a dataset with Input column and Output column for neighboring words.\n",
        "       The number of neighbors = n_gram*2'''\n",
        "    columns = ['Input', 'Output']\n",
        "    result = pd.DataFrame(columns = columns)\n",
        "    for sentence in corpus:\n",
        "        for i,w in enumerate(sentence.split()):\n",
        "            inp = w\n",
        "            for n in range(1,n_gram+1):\n",
        "                # look back\n",
        "                if (i-n)>=0:\n",
        "                    out = sentence.split()[i-n]\n",
        "                    row = pd.DataFrame([[inp,out]], columns = columns)\n",
        "                    result = result.append(row, ignore_index = True)\n",
        "\n",
        "                # look forward\n",
        "                if (i+n)<len(sentence.split()):\n",
        "                    out = sentence.split()[i+n]\n",
        "                    row = pd.DataFrame([[inp,out]], columns = columns)\n",
        "                    result = result.append(row, ignore_index = True)\n",
        "    return result"
      ],
      "metadata": {
        "id": "4OyIUdwl1J69"
      },
      "execution_count": 5,
      "outputs": []
    },
    {
      "cell_type": "code",
      "source": [
        "stop_words = set(stopwords.words('english'))"
      ],
      "metadata": {
        "id": "3XBvUpzC1Pfd"
      },
      "execution_count": 6,
      "outputs": []
    },
    {
      "cell_type": "code",
      "source": [
        "def preprocess(corpus):\n",
        "    result = []\n",
        "    for i in corpus:\n",
        "        out = nltk.word_tokenize(i)\n",
        "        out = [x.lower() for x in out]\n",
        "        out = [x for x in out if x not in stop_words]\n",
        "        result.append(\" \". join(out))\n",
        "    return result\n",
        "\n",
        "#########################\n",
        "# In paper, they used 300 dimensions and 5 context (n gram)\n",
        "#########################\n",
        "\n",
        "corpus = preprocess(corpus)\n",
        "vocabulary = create_vocabulary(corpus)\n",
        "train_emb = prepare_set(corpus, n_gram = 2)\n",
        "train_emb = prepare_set_ravel(corpus, n_gram = 2)\n",
        "train_emb.Input = train_emb.Input.map(vocabulary)\n",
        "train_emb.Output = train_emb.Output.map(vocabulary)\n",
        "\n",
        "vocab_size = len(vocabulary)\n",
        "\n",
        "def get_input_tensor(tensor):\n",
        "    '''Transform 1D tensor of word indexes to one-hot encoded 2D tensor'''\n",
        "    size = [*tensor.shape][0]\n",
        "    inp = torch.zeros(size, vocab_size).scatter_(1, tensor.unsqueeze(1), 1.)\n",
        "    return Variable(inp).float()\n",
        "\n",
        "embedding_dims = 300\n",
        "device = torch.device('cuda' if torch.cuda.is_available() else 'cpu')\n",
        "\n",
        "\n",
        "initrange = 0.5 / embedding_dims\n",
        "W1 = Variable(torch.randn(vocab_size, embedding_dims, device=device).uniform_(-initrange, initrange).float(), requires_grad=True) # shape V*H\n",
        "W2 = Variable(torch.randn(embedding_dims, vocab_size, device=device).uniform_(-initrange, initrange).float(), requires_grad=True) #shape H*V\n",
        "print(f'W1 shape is: {W1.shape}, W2 shape is: {W2.shape}')\n",
        "\n",
        "num_epochs = 2000\n",
        "learning_rate = 10.0\n",
        "lr_decay = 0.99\n",
        "loss_hist = []\n",
        "\n",
        "# Record the start time\n",
        "start_time = time.time()"
      ],
      "metadata": {
        "colab": {
          "base_uri": "https://localhost:8080/"
        },
        "id": "5Rxqxj0C1Ltd",
        "outputId": "b1515672-5602-4d9d-d273-2dbe35bad656"
      },
      "execution_count": 7,
      "outputs": [
        {
          "output_type": "stream",
          "name": "stdout",
          "text": [
            "W1 shape is: torch.Size([478, 300]), W2 shape is: torch.Size([300, 478])\n"
          ]
        }
      ]
    },
    {
      "cell_type": "code",
      "source": [
        "for epo in range(num_epochs):\n",
        "    total_correct = 0\n",
        "    total_samples = 0\n",
        "\n",
        "    for x,y in zip(DataLoader(train_emb.Input.values, batch_size=train_emb.shape[0]), DataLoader(train_emb.Output.values, batch_size=train_emb.shape[0])):\n",
        "        # one-hot encode input tensor\n",
        "        input_tensor = get_input_tensor(x).to(device) #shape N*V\n",
        "\n",
        "        # simple NN architecture\n",
        "        h = input_tensor.mm(W1.to(device)) # shape 1*H\n",
        "        y_pred = h.mm(W2.to(device)) # shape 1*V\n",
        "\n",
        "        # move target tensor to the same device\n",
        "        y = y.to(device)\n",
        "\n",
        "        # define loss func\n",
        "        loss_f = torch.nn.CrossEntropyLoss() # see details: https://pytorch.org/docs/stable/nn.html\n",
        "\n",
        "        #compute loss\n",
        "        loss = loss_f(y_pred, y)\n",
        "\n",
        "        # bakpropagation step\n",
        "        loss.backward()\n",
        "\n",
        "        # Update weights using gradient descent. For this step we just want to mutate\n",
        "        # the values of w1 and w2 in-place; we don't want to build up a computational\n",
        "        # graph for the update steps, so we use the torch.no_grad() context manager\n",
        "        # to prevent PyTorch from building a computational graph for the updates\n",
        "        with torch.no_grad():\n",
        "            # SGD optimization is implemented in PyTorch, but it's very easy to implement manually providing better understanding of process\n",
        "            W1 -= learning_rate*W1.grad.data\n",
        "            W2 -= learning_rate*W2.grad.data\n",
        "            # zero gradients for next step\n",
        "            W1.grad.data.zero_()\n",
        "            W2.grad.data.zero_()\n",
        "\n",
        "        # compute loss and accuracy\n",
        "        _, predicted = torch.max(y_pred.data, 1)\n",
        "        total_correct += (predicted == y).sum().item()\n",
        "        total_samples += y.size(0)\n",
        "\n",
        "    if epo%10 == 0:\n",
        "        learning_rate *= lr_decay\n",
        "    loss_hist.append(loss)\n",
        "    if epo%50 == 0:\n",
        "        accuracy = total_correct / total_samples\n",
        "        print(f'Epoch {epo}, loss = {loss}, accuracy = {accuracy}')\n",
        "\n",
        "# Record the end time\n",
        "end_time = time.time()\n",
        "\n",
        "# Calculate the elapsed time\n",
        "elapsed_time = end_time - start_time\n",
        "\n",
        "# Print the elapsed time\n",
        "print(f\"Elapsed Time: {elapsed_time} seconds\")"
      ],
      "metadata": {
        "colab": {
          "base_uri": "https://localhost:8080/"
        },
        "id": "s1-wS9WX03Ng",
        "outputId": "160f0151-50e6-4fde-d14f-98deccb65def"
      },
      "execution_count": 8,
      "outputs": [
        {
          "output_type": "stream",
          "name": "stdout",
          "text": [
            "Epoch 0, loss = 6.169609069824219, accuracy = 0.003692132916785004\n",
            "Epoch 50, loss = 5.610062599182129, accuracy = 0.20718545867651236\n",
            "Epoch 100, loss = 6.899322986602783, accuracy = 0.20746946890088044\n",
            "Epoch 150, loss = 5.239627361297607, accuracy = 0.22010792388525988\n",
            "Epoch 200, loss = 4.646688461303711, accuracy = 0.20803748934961658\n",
            "Epoch 250, loss = 5.488072872161865, accuracy = 0.15705765407554673\n",
            "Epoch 300, loss = 4.520118236541748, accuracy = 0.20704345356432832\n",
            "Epoch 350, loss = 4.153924942016602, accuracy = 0.26924169270093723\n",
            "Epoch 400, loss = 4.154606342315674, accuracy = 0.2837262141437092\n",
            "Epoch 450, loss = 4.249271869659424, accuracy = 0.2327463788696393\n",
            "Epoch 500, loss = 4.416109561920166, accuracy = 0.21144561204203352\n",
            "Epoch 550, loss = 4.308865070343018, accuracy = 0.21329167850042602\n",
            "Epoch 600, loss = 4.256441116333008, accuracy = 0.21201363249076965\n",
            "Epoch 650, loss = 4.030119895935059, accuracy = 0.27577392786140303\n",
            "Epoch 700, loss = 3.984341621398926, accuracy = 0.2672536211303607\n",
            "Epoch 750, loss = 3.915126323699951, accuracy = 0.28074410678784434\n",
            "Epoch 800, loss = 4.024764537811279, accuracy = 0.27946606077818803\n",
            "Epoch 850, loss = 3.873465061187744, accuracy = 0.28472024992899747\n",
            "Epoch 900, loss = 3.882594108581543, accuracy = 0.28386821925589323\n",
            "Epoch 950, loss = 3.814685583114624, accuracy = 0.2837262141437092\n",
            "Epoch 1000, loss = 3.773294448852539, accuracy = 0.27747798920761146\n",
            "Epoch 1050, loss = 3.7321012020111084, accuracy = 0.28472024992899747\n",
            "Epoch 1100, loss = 3.695174217224121, accuracy = 0.28486225504118146\n",
            "Epoch 1150, loss = 3.661746025085449, accuracy = 0.28486225504118146\n",
            "Epoch 1200, loss = 3.6312851905822754, accuracy = 0.28486225504118146\n",
            "Epoch 1250, loss = 3.6035637855529785, accuracy = 0.2850042601533655\n",
            "Epoch 1300, loss = 3.5784523487091064, accuracy = 0.2850042601533655\n",
            "Epoch 1350, loss = 3.5561628341674805, accuracy = 0.2850042601533655\n",
            "Epoch 1400, loss = 3.5393240451812744, accuracy = 0.2850042601533655\n",
            "Epoch 1450, loss = 3.5209546089172363, accuracy = 0.2850042601533655\n",
            "Epoch 1500, loss = 3.5059375762939453, accuracy = 0.2850042601533655\n",
            "Epoch 1550, loss = 3.492612361907959, accuracy = 0.2850042601533655\n",
            "Epoch 1600, loss = 3.48028826713562, accuracy = 0.2850042601533655\n",
            "Epoch 1650, loss = 3.468881845474243, accuracy = 0.2850042601533655\n",
            "Epoch 1700, loss = 3.458324909210205, accuracy = 0.2850042601533655\n",
            "Epoch 1750, loss = 3.448558807373047, accuracy = 0.2850042601533655\n",
            "Epoch 1800, loss = 3.439518690109253, accuracy = 0.2850042601533655\n",
            "Epoch 1850, loss = 3.431149959564209, accuracy = 0.2850042601533655\n",
            "Epoch 1900, loss = 3.4233996868133545, accuracy = 0.2850042601533655\n",
            "Epoch 1950, loss = 3.4162163734436035, accuracy = 0.2850042601533655\n",
            "Elapsed Time: 28.52726149559021 seconds\n"
          ]
        }
      ]
    },
    {
      "cell_type": "code",
      "source": [],
      "metadata": {
        "id": "hrxSALFw2Rhl"
      },
      "execution_count": 8,
      "outputs": []
    }
  ]
}